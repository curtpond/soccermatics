{
 "cells": [
  {
   "cell_type": "markdown",
   "id": "6b7616ba",
   "metadata": {},
   "source": [
    "### Load libraries"
   ]
  },
  {
   "cell_type": "code",
   "execution_count": 1,
   "id": "1bc5127c",
   "metadata": {},
   "outputs": [],
   "source": [
    "from mplsoccer import Sbopen\n",
    "from pathlib import Path\n",
    "\n",
    "#open data with Sbopen parser\n",
    "parser = Sbopen()"
   ]
  },
  {
   "cell_type": "markdown",
   "id": "3e66f89e",
   "metadata": {},
   "source": [
    "#### Set the path"
   ]
  },
  {
   "cell_type": "code",
   "execution_count": 2,
   "id": "f6bb2b6c",
   "metadata": {},
   "outputs": [
    {
     "data": {
      "text/plain": [
       "[PosixPath('//Users/curtispond/Documents/soccermatics/football/statsbomb/data/data/lineups'),\n",
       " PosixPath('//Users/curtispond/Documents/soccermatics/football/statsbomb/data/data/three-sixty'),\n",
       " PosixPath('//Users/curtispond/Documents/soccermatics/football/statsbomb/data/data/matches'),\n",
       " PosixPath('//Users/curtispond/Documents/soccermatics/football/statsbomb/data/data/competitions.json'),\n",
       " PosixPath('//Users/curtispond/Documents/soccermatics/football/statsbomb/data/data/events')]"
      ]
     },
     "execution_count": 2,
     "metadata": {},
     "output_type": "execute_result"
    }
   ],
   "source": [
    "path = Path('//Users//curtispond//Documents//soccermatics//football//statsbomb//data//data')    \n",
    "list(path.iterdir())"
   ]
  },
  {
   "cell_type": "markdown",
   "id": "9d28e432",
   "metadata": {},
   "source": [
    "#### List files"
   ]
  },
  {
   "cell_type": "code",
   "execution_count": 3,
   "id": "057fe5aa",
   "metadata": {},
   "outputs": [
    {
     "data": {
      "text/plain": [
       "[PosixPath('//Users/curtispond/Documents/soccermatics/football/statsbomb/data/data/competitions.json')]"
      ]
     },
     "execution_count": 3,
     "metadata": {},
     "output_type": "execute_result"
    }
   ],
   "source": [
    "[f for f in Path(path).iterdir() if f.is_file()] # use is_dir() if you want the directories"
   ]
  },
  {
   "cell_type": "code",
   "execution_count": 4,
   "id": "e7854385",
   "metadata": {},
   "outputs": [
    {
     "data": {
      "text/html": [
       "<div>\n",
       "<style scoped>\n",
       "    .dataframe tbody tr th:only-of-type {\n",
       "        vertical-align: middle;\n",
       "    }\n",
       "\n",
       "    .dataframe tbody tr th {\n",
       "        vertical-align: top;\n",
       "    }\n",
       "\n",
       "    .dataframe thead th {\n",
       "        text-align: right;\n",
       "    }\n",
       "</style>\n",
       "<table border=\"1\" class=\"dataframe\">\n",
       "  <thead>\n",
       "    <tr style=\"text-align: right;\">\n",
       "      <th></th>\n",
       "      <th>competition_id</th>\n",
       "      <th>season_id</th>\n",
       "      <th>country_name</th>\n",
       "      <th>competition_name</th>\n",
       "      <th>competition_gender</th>\n",
       "      <th>competition_youth</th>\n",
       "      <th>competition_international</th>\n",
       "      <th>season_name</th>\n",
       "      <th>match_updated</th>\n",
       "      <th>match_updated_360</th>\n",
       "      <th>match_available_360</th>\n",
       "      <th>match_available</th>\n",
       "    </tr>\n",
       "  </thead>\n",
       "  <tbody>\n",
       "    <tr>\n",
       "      <th>0</th>\n",
       "      <td>16</td>\n",
       "      <td>4</td>\n",
       "      <td>Europe</td>\n",
       "      <td>Champions League</td>\n",
       "      <td>male</td>\n",
       "      <td>False</td>\n",
       "      <td>False</td>\n",
       "      <td>2018/2019</td>\n",
       "      <td>2022-08-14T16:57:15.866765</td>\n",
       "      <td>2021-06-13T16:17:31.694</td>\n",
       "      <td>None</td>\n",
       "      <td>2022-08-14T16:57:15.866765</td>\n",
       "    </tr>\n",
       "    <tr>\n",
       "      <th>1</th>\n",
       "      <td>16</td>\n",
       "      <td>1</td>\n",
       "      <td>Europe</td>\n",
       "      <td>Champions League</td>\n",
       "      <td>male</td>\n",
       "      <td>False</td>\n",
       "      <td>False</td>\n",
       "      <td>2017/2018</td>\n",
       "      <td>2021-08-27T11:26:39.802832</td>\n",
       "      <td>2021-06-13T16:17:31.694</td>\n",
       "      <td>None</td>\n",
       "      <td>2021-01-23T21:55:30.425330</td>\n",
       "    </tr>\n",
       "    <tr>\n",
       "      <th>2</th>\n",
       "      <td>16</td>\n",
       "      <td>2</td>\n",
       "      <td>Europe</td>\n",
       "      <td>Champions League</td>\n",
       "      <td>male</td>\n",
       "      <td>False</td>\n",
       "      <td>False</td>\n",
       "      <td>2016/2017</td>\n",
       "      <td>2021-08-27T11:26:39.802832</td>\n",
       "      <td>2021-06-13T16:17:31.694</td>\n",
       "      <td>None</td>\n",
       "      <td>2020-07-29T05:00</td>\n",
       "    </tr>\n",
       "    <tr>\n",
       "      <th>3</th>\n",
       "      <td>16</td>\n",
       "      <td>27</td>\n",
       "      <td>Europe</td>\n",
       "      <td>Champions League</td>\n",
       "      <td>male</td>\n",
       "      <td>False</td>\n",
       "      <td>False</td>\n",
       "      <td>2015/2016</td>\n",
       "      <td>2021-08-27T11:26:39.802832</td>\n",
       "      <td>2021-06-13T16:17:31.694</td>\n",
       "      <td>None</td>\n",
       "      <td>2020-07-29T05:00</td>\n",
       "    </tr>\n",
       "    <tr>\n",
       "      <th>4</th>\n",
       "      <td>16</td>\n",
       "      <td>26</td>\n",
       "      <td>Europe</td>\n",
       "      <td>Champions League</td>\n",
       "      <td>male</td>\n",
       "      <td>False</td>\n",
       "      <td>False</td>\n",
       "      <td>2014/2015</td>\n",
       "      <td>2021-08-27T11:26:39.802832</td>\n",
       "      <td>2021-06-13T16:17:31.694</td>\n",
       "      <td>None</td>\n",
       "      <td>2020-07-29T05:00</td>\n",
       "    </tr>\n",
       "  </tbody>\n",
       "</table>\n",
       "</div>"
      ],
      "text/plain": [
       "   competition_id  season_id country_name  competition_name  \\\n",
       "0              16          4       Europe  Champions League   \n",
       "1              16          1       Europe  Champions League   \n",
       "2              16          2       Europe  Champions League   \n",
       "3              16         27       Europe  Champions League   \n",
       "4              16         26       Europe  Champions League   \n",
       "\n",
       "  competition_gender  competition_youth  competition_international  \\\n",
       "0               male              False                      False   \n",
       "1               male              False                      False   \n",
       "2               male              False                      False   \n",
       "3               male              False                      False   \n",
       "4               male              False                      False   \n",
       "\n",
       "  season_name               match_updated        match_updated_360  \\\n",
       "0   2018/2019  2022-08-14T16:57:15.866765  2021-06-13T16:17:31.694   \n",
       "1   2017/2018  2021-08-27T11:26:39.802832  2021-06-13T16:17:31.694   \n",
       "2   2016/2017  2021-08-27T11:26:39.802832  2021-06-13T16:17:31.694   \n",
       "3   2015/2016  2021-08-27T11:26:39.802832  2021-06-13T16:17:31.694   \n",
       "4   2014/2015  2021-08-27T11:26:39.802832  2021-06-13T16:17:31.694   \n",
       "\n",
       "  match_available_360             match_available  \n",
       "0                None  2022-08-14T16:57:15.866765  \n",
       "1                None  2021-01-23T21:55:30.425330  \n",
       "2                None            2020-07-29T05:00  \n",
       "3                None            2020-07-29T05:00  \n",
       "4                None            2020-07-29T05:00  "
      ]
     },
     "execution_count": 4,
     "metadata": {},
     "output_type": "execute_result"
    }
   ],
   "source": [
    "df_competition = parser.competition()\n",
    "df_competition.head()"
   ]
  },
  {
   "cell_type": "code",
   "execution_count": 5,
   "id": "cd18b5dc",
   "metadata": {},
   "outputs": [
    {
     "name": "stdout",
     "output_type": "stream",
     "text": [
      "<class 'pandas.core.frame.DataFrame'>\n",
      "RangeIndex: 42 entries, 0 to 41\n",
      "Data columns (total 12 columns):\n",
      " #   Column                     Non-Null Count  Dtype \n",
      "---  ------                     --------------  ----- \n",
      " 0   competition_id             42 non-null     int64 \n",
      " 1   season_id                  42 non-null     int64 \n",
      " 2   country_name               42 non-null     object\n",
      " 3   competition_name           42 non-null     object\n",
      " 4   competition_gender         42 non-null     object\n",
      " 5   competition_youth          42 non-null     bool  \n",
      " 6   competition_international  42 non-null     bool  \n",
      " 7   season_name                42 non-null     object\n",
      " 8   match_updated              42 non-null     object\n",
      " 9   match_updated_360          41 non-null     object\n",
      " 10  match_available_360        3 non-null      object\n",
      " 11  match_available            42 non-null     object\n",
      "dtypes: bool(2), int64(2), object(8)\n",
      "memory usage: 3.5+ KB\n"
     ]
    }
   ],
   "source": [
    "df_competition.info()"
   ]
  },
  {
   "cell_type": "code",
   "execution_count": 6,
   "id": "467da410",
   "metadata": {},
   "outputs": [
    {
     "data": {
      "text/plain": [
       "(42, 12)"
      ]
     },
     "execution_count": 6,
     "metadata": {},
     "output_type": "execute_result"
    }
   ],
   "source": [
    "df_competition.shape"
   ]
  },
  {
   "cell_type": "markdown",
   "id": "a29862fc",
   "metadata": {},
   "source": [
    "#### Do we have Barcenlona from 2008 to 2012?"
   ]
  },
  {
   "cell_type": "code",
   "execution_count": 7,
   "id": "9d3e11e5",
   "metadata": {},
   "outputs": [
    {
     "data": {
      "text/plain": [
       "'1999/2000'"
      ]
     },
     "execution_count": 7,
     "metadata": {},
     "output_type": "execute_result"
    }
   ],
   "source": [
    "min(df_competition['season_name'])"
   ]
  },
  {
   "cell_type": "code",
   "execution_count": 8,
   "id": "0f0bf1bb",
   "metadata": {},
   "outputs": [
    {
     "data": {
      "text/plain": [
       "array(['2018/2019', '2017/2018', '2016/2017', '2015/2016', '2014/2015',\n",
       "       '2013/2014', '2012/2013', '2011/2012', '2010/2011', '2009/2010',\n",
       "       '2008/2009', '2006/2007', '2004/2005', '2003/2004', '1999/2000',\n",
       "       '2020/2021', '2019/2020', '2018/2019', '2018', '2021/2022',\n",
       "       '2020/2021', '2019/2020', '2018/2019', '2017/2018', '2016/2017',\n",
       "       '2015/2016', '2014/2015', '2013/2014', '2012/2013', '2011/2012',\n",
       "       '2010/2011', '2009/2010', '2008/2009', '2007/2008', '2006/2007',\n",
       "       '2005/2006', '2004/2005', '2018', '2003/2004', '2020', '2022',\n",
       "       '2019'], dtype=object)"
      ]
     },
     "execution_count": 8,
     "metadata": {},
     "output_type": "execute_result"
    }
   ],
   "source": [
    "df_competition['season_name'].values"
   ]
  },
  {
   "cell_type": "code",
   "execution_count": 9,
   "id": "bb2a069e",
   "metadata": {},
   "outputs": [
    {
     "data": {
      "text/plain": [
       "array(['Champions League', 'Champions League', 'Champions League',\n",
       "       'Champions League', 'Champions League', 'Champions League',\n",
       "       'Champions League', 'Champions League', 'Champions League',\n",
       "       'Champions League', 'Champions League', 'Champions League',\n",
       "       'Champions League', 'Champions League', 'Champions League',\n",
       "       \"FA Women's Super League\", \"FA Women's Super League\",\n",
       "       \"FA Women's Super League\", 'FIFA World Cup', 'Indian Super league',\n",
       "       'La Liga', 'La Liga', 'La Liga', 'La Liga', 'La Liga', 'La Liga',\n",
       "       'La Liga', 'La Liga', 'La Liga', 'La Liga', 'La Liga', 'La Liga',\n",
       "       'La Liga', 'La Liga', 'La Liga', 'La Liga', 'La Liga', 'NWSL',\n",
       "       'Premier League', 'UEFA Euro', \"UEFA Women's Euro\",\n",
       "       \"Women's World Cup\"], dtype=object)"
      ]
     },
     "execution_count": 9,
     "metadata": {},
     "output_type": "execute_result"
    }
   ],
   "source": [
    "df_competition['competition_name'].values"
   ]
  },
  {
   "cell_type": "markdown",
   "id": "b0eb5ad1",
   "metadata": {},
   "source": [
    "#### Select Champions League 2008/2009 (competition_id = 16, season_id=41)"
   ]
  },
  {
   "cell_type": "code",
   "execution_count": 10,
   "id": "1410e532",
   "metadata": {},
   "outputs": [
    {
     "name": "stdout",
     "output_type": "stream",
     "text": [
      "<class 'pandas.core.frame.DataFrame'>\n",
      "RangeIndex: 1 entries, 0 to 0\n",
      "Data columns (total 52 columns):\n",
      " #   Column                           Non-Null Count  Dtype         \n",
      "---  ------                           --------------  -----         \n",
      " 0   match_id                         1 non-null      int64         \n",
      " 1   match_date                       1 non-null      datetime64[ns]\n",
      " 2   kick_off                         1 non-null      datetime64[ns]\n",
      " 3   home_score                       1 non-null      int64         \n",
      " 4   away_score                       1 non-null      int64         \n",
      " 5   match_status                     1 non-null      object        \n",
      " 6   match_status_360                 1 non-null      object        \n",
      " 7   last_updated                     1 non-null      datetime64[ns]\n",
      " 8   last_updated_360                 1 non-null      datetime64[ns]\n",
      " 9   match_week                       1 non-null      int64         \n",
      " 10  competition_id                   1 non-null      int64         \n",
      " 11  country_name                     1 non-null      object        \n",
      " 12  competition_name                 1 non-null      object        \n",
      " 13  season_id                        1 non-null      int64         \n",
      " 14  season_name                      1 non-null      object        \n",
      " 15  home_team_id                     1 non-null      int64         \n",
      " 16  home_team_name                   1 non-null      object        \n",
      " 17  home_team_gender                 1 non-null      object        \n",
      " 18  home_team_group                  0 non-null      object        \n",
      " 19  home_team_country_id             1 non-null      int64         \n",
      " 20  home_team_country_name           1 non-null      object        \n",
      " 21  home_team_managers_id            1 non-null      int64         \n",
      " 22  home_team_managers_name          1 non-null      object        \n",
      " 23  home_team_managers_nickname      1 non-null      object        \n",
      " 24  home_team_managers_dob           1 non-null      datetime64[ns]\n",
      " 25  home_team_managers_country_id    1 non-null      int64         \n",
      " 26  home_team_managers_country_name  1 non-null      object        \n",
      " 27  away_team_id                     1 non-null      int64         \n",
      " 28  away_team_name                   1 non-null      object        \n",
      " 29  away_team_gender                 1 non-null      object        \n",
      " 30  away_team_group                  0 non-null      object        \n",
      " 31  away_team_country_id             1 non-null      int64         \n",
      " 32  away_team_country_name           1 non-null      object        \n",
      " 33  away_team_managers_id            1 non-null      int64         \n",
      " 34  away_team_managers_name          1 non-null      object        \n",
      " 35  away_team_managers_nickname      1 non-null      object        \n",
      " 36  away_team_managers_dob           1 non-null      datetime64[ns]\n",
      " 37  away_team_managers_country_id    1 non-null      int64         \n",
      " 38  away_team_managers_country_name  1 non-null      object        \n",
      " 39  metadata_data_version            1 non-null      object        \n",
      " 40  metadata_shot_fidelity_version   1 non-null      object        \n",
      " 41  metadata_xy_fidelity_version     1 non-null      object        \n",
      " 42  competition_stage_id             1 non-null      int64         \n",
      " 43  competition_stage_name           1 non-null      object        \n",
      " 44  stadium_id                       1 non-null      int64         \n",
      " 45  stadium_name                     1 non-null      object        \n",
      " 46  stadium_country_id               1 non-null      int64         \n",
      " 47  stadium_country_name             1 non-null      object        \n",
      " 48  referee_id                       1 non-null      int64         \n",
      " 49  referee_name                     1 non-null      object        \n",
      " 50  referee_country_id               1 non-null      int64         \n",
      " 51  referee_country_name             1 non-null      object        \n",
      "dtypes: datetime64[ns](6), int64(19), object(27)\n",
      "memory usage: 544.0+ bytes\n"
     ]
    }
   ],
   "source": [
    "# Open data using the match method\n",
    "df_match = parser.match(competition_id=16, season_id=41)\n",
    "df_match.info()"
   ]
  },
  {
   "cell_type": "code",
   "execution_count": 11,
   "id": "d6eca449",
   "metadata": {},
   "outputs": [
    {
     "data": {
      "text/plain": [
       "(1, 52)"
      ]
     },
     "execution_count": 11,
     "metadata": {},
     "output_type": "execute_result"
    }
   ],
   "source": [
    "df_match.shape"
   ]
  },
  {
   "cell_type": "code",
   "execution_count": 12,
   "id": "ec30a5ea",
   "metadata": {},
   "outputs": [
    {
     "data": {
      "text/html": [
       "<div>\n",
       "<style scoped>\n",
       "    .dataframe tbody tr th:only-of-type {\n",
       "        vertical-align: middle;\n",
       "    }\n",
       "\n",
       "    .dataframe tbody tr th {\n",
       "        vertical-align: top;\n",
       "    }\n",
       "\n",
       "    .dataframe thead th {\n",
       "        text-align: right;\n",
       "    }\n",
       "</style>\n",
       "<table border=\"1\" class=\"dataframe\">\n",
       "  <thead>\n",
       "    <tr style=\"text-align: right;\">\n",
       "      <th></th>\n",
       "      <th>match_id</th>\n",
       "      <th>match_date</th>\n",
       "      <th>kick_off</th>\n",
       "      <th>home_score</th>\n",
       "      <th>away_score</th>\n",
       "      <th>match_status</th>\n",
       "      <th>match_status_360</th>\n",
       "      <th>last_updated</th>\n",
       "      <th>last_updated_360</th>\n",
       "      <th>match_week</th>\n",
       "      <th>...</th>\n",
       "      <th>competition_stage_id</th>\n",
       "      <th>competition_stage_name</th>\n",
       "      <th>stadium_id</th>\n",
       "      <th>stadium_name</th>\n",
       "      <th>stadium_country_id</th>\n",
       "      <th>stadium_country_name</th>\n",
       "      <th>referee_id</th>\n",
       "      <th>referee_name</th>\n",
       "      <th>referee_country_id</th>\n",
       "      <th>referee_country_name</th>\n",
       "    </tr>\n",
       "  </thead>\n",
       "  <tbody>\n",
       "    <tr>\n",
       "      <th>0</th>\n",
       "      <td>3750201</td>\n",
       "      <td>2009-05-27</td>\n",
       "      <td>2009-05-27 20:45:00</td>\n",
       "      <td>2</td>\n",
       "      <td>0</td>\n",
       "      <td>available</td>\n",
       "      <td>scheduled</td>\n",
       "      <td>2021-11-07 14:20:01.699993</td>\n",
       "      <td>2021-06-13 16:17:31.694</td>\n",
       "      <td>1</td>\n",
       "      <td>...</td>\n",
       "      <td>26</td>\n",
       "      <td>Final</td>\n",
       "      <td>381</td>\n",
       "      <td>Estadio Olímpico</td>\n",
       "      <td>112</td>\n",
       "      <td>Italy</td>\n",
       "      <td>705</td>\n",
       "      <td>Massimo Busacca</td>\n",
       "      <td>221</td>\n",
       "      <td>Switzerland</td>\n",
       "    </tr>\n",
       "  </tbody>\n",
       "</table>\n",
       "<p>1 rows × 52 columns</p>\n",
       "</div>"
      ],
      "text/plain": [
       "   match_id match_date            kick_off  home_score  away_score  \\\n",
       "0   3750201 2009-05-27 2009-05-27 20:45:00           2           0   \n",
       "\n",
       "  match_status match_status_360               last_updated  \\\n",
       "0    available        scheduled 2021-11-07 14:20:01.699993   \n",
       "\n",
       "         last_updated_360  match_week  ...  competition_stage_id  \\\n",
       "0 2021-06-13 16:17:31.694           1  ...                    26   \n",
       "\n",
       "  competition_stage_name stadium_id      stadium_name stadium_country_id  \\\n",
       "0                  Final        381  Estadio Olímpico                112   \n",
       "\n",
       "   stadium_country_name referee_id     referee_name referee_country_id  \\\n",
       "0                 Italy        705  Massimo Busacca                221   \n",
       "\n",
       "   referee_country_name  \n",
       "0           Switzerland  \n",
       "\n",
       "[1 rows x 52 columns]"
      ]
     },
     "execution_count": 12,
     "metadata": {},
     "output_type": "execute_result"
    }
   ],
   "source": [
    "df_match."
   ]
  },
  {
   "cell_type": "code",
   "execution_count": null,
   "id": "0df78692",
   "metadata": {},
   "outputs": [],
   "source": [
    "df"
   ]
  },
  {
   "cell_type": "code",
   "execution_count": null,
   "id": "3e696d9d",
   "metadata": {},
   "outputs": [],
   "source": []
  },
  {
   "cell_type": "code",
   "execution_count": 16,
   "id": "4dadfa85",
   "metadata": {},
   "outputs": [],
   "source": [
    "# match_id, home_team_id and home_team_name and adequately away_team_id and away_team_name."
   ]
  },
  {
   "cell_type": "code",
   "execution_count": 28,
   "id": "f6fb702e",
   "metadata": {},
   "outputs": [],
   "source": [
    "df_lineup = parser.lineup(3750201)"
   ]
  },
  {
   "cell_type": "code",
   "execution_count": 30,
   "id": "2c01dc07",
   "metadata": {},
   "outputs": [
    {
     "name": "stdout",
     "output_type": "stream",
     "text": [
      "<class 'pandas.core.frame.DataFrame'>\n",
      "RangeIndex: 36 entries, 0 to 35\n",
      "Data columns (total 9 columns):\n",
      " #   Column           Non-Null Count  Dtype \n",
      "---  ------           --------------  ----- \n",
      " 0   player_id        36 non-null     int64 \n",
      " 1   player_name      36 non-null     object\n",
      " 2   player_nickname  36 non-null     object\n",
      " 3   jersey_number    36 non-null     int64 \n",
      " 4   match_id         36 non-null     int64 \n",
      " 5   team_id          36 non-null     int64 \n",
      " 6   team_name        36 non-null     object\n",
      " 7   country_id       36 non-null     int64 \n",
      " 8   country_name     36 non-null     object\n",
      "dtypes: int64(5), object(4)\n",
      "memory usage: 2.7+ KB\n"
     ]
    }
   ],
   "source": [
    "df_lineup.info()"
   ]
  },
  {
   "cell_type": "code",
   "execution_count": null,
   "id": "ddb2a4ad",
   "metadata": {},
   "outputs": [],
   "source": []
  }
 ],
 "metadata": {
  "kernelspec": {
   "display_name": "Python 3.10.4 ('fastai')",
   "language": "python",
   "name": "python3"
  },
  "language_info": {
   "codemirror_mode": {
    "name": "ipython",
    "version": 3
   },
   "file_extension": ".py",
   "mimetype": "text/x-python",
   "name": "python",
   "nbconvert_exporter": "python",
   "pygments_lexer": "ipython3",
   "version": "3.10.4"
  },
  "vscode": {
   "interpreter": {
    "hash": "4b6371f9b180b180e3c0fc2dc539c52593b72b3e75aed3593bd0a5845eb81bd2"
   }
  }
 },
 "nbformat": 4,
 "nbformat_minor": 5
}
