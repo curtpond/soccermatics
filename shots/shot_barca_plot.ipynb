{
 "cells": [
  {
   "cell_type": "markdown",
   "id": "729e8c6d",
   "metadata": {},
   "source": [
    "### Import libraries"
   ]
  },
  {
   "cell_type": "code",
   "execution_count": 2,
   "id": "48b75001",
   "metadata": {},
   "outputs": [],
   "source": [
    "import matplotlib.pyplot as plt\n",
    "import numpy as np\n",
    "from mplsoccer import Pitch, Sbopen, VerticalPitch"
   ]
  },
  {
   "cell_type": "markdown",
   "id": "46b84934",
   "metadata": {},
   "source": [
    "### Find Barcelona events"
   ]
  },
  {
   "cell_type": "code",
   "execution_count": 3,
   "id": "166022dd",
   "metadata": {},
   "outputs": [],
   "source": [
    "#open data with Sbopen parser\n",
    "parser = Sbopen()"
   ]
  },
  {
   "cell_type": "code",
   "execution_count": 6,
   "id": "682a43a6",
   "metadata": {},
   "outputs": [
    {
     "data": {
      "text/html": [
       "<div>\n",
       "<style scoped>\n",
       "    .dataframe tbody tr th:only-of-type {\n",
       "        vertical-align: middle;\n",
       "    }\n",
       "\n",
       "    .dataframe tbody tr th {\n",
       "        vertical-align: top;\n",
       "    }\n",
       "\n",
       "    .dataframe thead th {\n",
       "        text-align: right;\n",
       "    }\n",
       "</style>\n",
       "<table border=\"1\" class=\"dataframe\">\n",
       "  <thead>\n",
       "    <tr style=\"text-align: right;\">\n",
       "      <th></th>\n",
       "      <th>competition_id</th>\n",
       "      <th>season_id</th>\n",
       "      <th>country_name</th>\n",
       "      <th>competition_name</th>\n",
       "      <th>competition_gender</th>\n",
       "      <th>competition_youth</th>\n",
       "      <th>competition_international</th>\n",
       "      <th>season_name</th>\n",
       "      <th>match_updated</th>\n",
       "      <th>match_updated_360</th>\n",
       "      <th>match_available_360</th>\n",
       "      <th>match_available</th>\n",
       "    </tr>\n",
       "  </thead>\n",
       "  <tbody>\n",
       "    <tr>\n",
       "      <th>0</th>\n",
       "      <td>16</td>\n",
       "      <td>4</td>\n",
       "      <td>Europe</td>\n",
       "      <td>Champions League</td>\n",
       "      <td>male</td>\n",
       "      <td>False</td>\n",
       "      <td>False</td>\n",
       "      <td>2018/2019</td>\n",
       "      <td>2022-08-14T16:57:15.866765</td>\n",
       "      <td>2021-06-13T16:17:31.694</td>\n",
       "      <td>None</td>\n",
       "      <td>2022-08-14T16:57:15.866765</td>\n",
       "    </tr>\n",
       "    <tr>\n",
       "      <th>1</th>\n",
       "      <td>16</td>\n",
       "      <td>1</td>\n",
       "      <td>Europe</td>\n",
       "      <td>Champions League</td>\n",
       "      <td>male</td>\n",
       "      <td>False</td>\n",
       "      <td>False</td>\n",
       "      <td>2017/2018</td>\n",
       "      <td>2021-08-27T11:26:39.802832</td>\n",
       "      <td>2021-06-13T16:17:31.694</td>\n",
       "      <td>None</td>\n",
       "      <td>2021-01-23T21:55:30.425330</td>\n",
       "    </tr>\n",
       "    <tr>\n",
       "      <th>2</th>\n",
       "      <td>16</td>\n",
       "      <td>2</td>\n",
       "      <td>Europe</td>\n",
       "      <td>Champions League</td>\n",
       "      <td>male</td>\n",
       "      <td>False</td>\n",
       "      <td>False</td>\n",
       "      <td>2016/2017</td>\n",
       "      <td>2021-08-27T11:26:39.802832</td>\n",
       "      <td>2021-06-13T16:17:31.694</td>\n",
       "      <td>None</td>\n",
       "      <td>2020-07-29T05:00</td>\n",
       "    </tr>\n",
       "    <tr>\n",
       "      <th>3</th>\n",
       "      <td>16</td>\n",
       "      <td>27</td>\n",
       "      <td>Europe</td>\n",
       "      <td>Champions League</td>\n",
       "      <td>male</td>\n",
       "      <td>False</td>\n",
       "      <td>False</td>\n",
       "      <td>2015/2016</td>\n",
       "      <td>2021-08-27T11:26:39.802832</td>\n",
       "      <td>2021-06-13T16:17:31.694</td>\n",
       "      <td>None</td>\n",
       "      <td>2020-07-29T05:00</td>\n",
       "    </tr>\n",
       "    <tr>\n",
       "      <th>4</th>\n",
       "      <td>16</td>\n",
       "      <td>26</td>\n",
       "      <td>Europe</td>\n",
       "      <td>Champions League</td>\n",
       "      <td>male</td>\n",
       "      <td>False</td>\n",
       "      <td>False</td>\n",
       "      <td>2014/2015</td>\n",
       "      <td>2021-08-27T11:26:39.802832</td>\n",
       "      <td>2021-06-13T16:17:31.694</td>\n",
       "      <td>None</td>\n",
       "      <td>2020-07-29T05:00</td>\n",
       "    </tr>\n",
       "  </tbody>\n",
       "</table>\n",
       "</div>"
      ],
      "text/plain": [
       "   competition_id  season_id country_name  competition_name  \\\n",
       "0              16          4       Europe  Champions League   \n",
       "1              16          1       Europe  Champions League   \n",
       "2              16          2       Europe  Champions League   \n",
       "3              16         27       Europe  Champions League   \n",
       "4              16         26       Europe  Champions League   \n",
       "\n",
       "  competition_gender  competition_youth  competition_international  \\\n",
       "0               male              False                      False   \n",
       "1               male              False                      False   \n",
       "2               male              False                      False   \n",
       "3               male              False                      False   \n",
       "4               male              False                      False   \n",
       "\n",
       "  season_name               match_updated        match_updated_360  \\\n",
       "0   2018/2019  2022-08-14T16:57:15.866765  2021-06-13T16:17:31.694   \n",
       "1   2017/2018  2021-08-27T11:26:39.802832  2021-06-13T16:17:31.694   \n",
       "2   2016/2017  2021-08-27T11:26:39.802832  2021-06-13T16:17:31.694   \n",
       "3   2015/2016  2021-08-27T11:26:39.802832  2021-06-13T16:17:31.694   \n",
       "4   2014/2015  2021-08-27T11:26:39.802832  2021-06-13T16:17:31.694   \n",
       "\n",
       "  match_available_360             match_available  \n",
       "0                None  2022-08-14T16:57:15.866765  \n",
       "1                None  2021-01-23T21:55:30.425330  \n",
       "2                None            2020-07-29T05:00  \n",
       "3                None            2020-07-29T05:00  \n",
       "4                None            2020-07-29T05:00  "
      ]
     },
     "execution_count": 6,
     "metadata": {},
     "output_type": "execute_result"
    }
   ],
   "source": [
    "df_competition = parser.competition()\n",
    "df_competition.head()"
   ]
  },
  {
   "cell_type": "code",
   "execution_count": 16,
   "id": "8661b582",
   "metadata": {},
   "outputs": [
    {
     "data": {
      "text/plain": [
       "array(['Champions League', \"FA Women's Super League\", 'FIFA World Cup',\n",
       "       'Indian Super league', 'La Liga', 'NWSL', 'Premier League',\n",
       "       'UEFA Euro', \"UEFA Women's Euro\", \"Women's World Cup\"],\n",
       "      dtype=object)"
      ]
     },
     "execution_count": 16,
     "metadata": {},
     "output_type": "execute_result"
    }
   ],
   "source": [
    "#show unique competitions to choose from\n",
    "df_competition.competition_name.unique()"
   ]
  },
  {
   "cell_type": "code",
   "execution_count": 18,
   "id": "27d4b7d9",
   "metadata": {},
   "outputs": [
    {
     "data": {
      "text/plain": [
       "2018/2019    3\n",
       "2009/2010    2\n",
       "2018         2\n",
       "2019/2020    2\n",
       "2020/2021    2\n",
       "2003/2004    2\n",
       "2017/2018    2\n",
       "2006/2007    2\n",
       "2008/2009    2\n",
       "2004/2005    2\n",
       "2010/2011    2\n",
       "2011/2012    2\n",
       "2012/2013    2\n",
       "2013/2014    2\n",
       "2014/2015    2\n",
       "2015/2016    2\n",
       "2016/2017    2\n",
       "1999/2000    1\n",
       "2021/2022    1\n",
       "2007/2008    1\n",
       "2005/2006    1\n",
       "2020         1\n",
       "2022         1\n",
       "2019         1\n",
       "Name: season_name, dtype: int64"
      ]
     },
     "execution_count": 18,
     "metadata": {},
     "output_type": "execute_result"
    }
   ],
   "source": [
    "#what years are we working with\n",
    "df_competition['season_name'].value_counts()"
   ]
  },
  {
   "cell_type": "markdown",
   "id": "0f55b8d5",
   "metadata": {},
   "source": [
    "According to this [page on Wikipedia](https://en.wikipedia.org/wiki/2008%E2%80%9309_FC_Barcelona_season), Pep Guardiola's first season as manager at Barcelona was 2008-2009."
   ]
  },
  {
   "cell_type": "markdown",
   "id": "65d80e80",
   "metadata": {},
   "source": []
  }
 ],
 "metadata": {
  "kernelspec": {
   "display_name": "Python 3.10.4 ('fastai')",
   "language": "python",
   "name": "python3"
  },
  "language_info": {
   "codemirror_mode": {
    "name": "ipython",
    "version": 3
   },
   "file_extension": ".py",
   "mimetype": "text/x-python",
   "name": "python",
   "nbconvert_exporter": "python",
   "pygments_lexer": "ipython3",
   "version": "3.10.4"
  },
  "vscode": {
   "interpreter": {
    "hash": "4b6371f9b180b180e3c0fc2dc539c52593b72b3e75aed3593bd0a5845eb81bd2"
   }
  }
 },
 "nbformat": 4,
 "nbformat_minor": 5
}
